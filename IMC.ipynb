{
  "nbformat": 4,
  "nbformat_minor": 0,
  "metadata": {
    "colab": {
      "provenance": [],
      "authorship_tag": "ABX9TyNGu/ENkwRVFxK7zjthsDoV",
      "include_colab_link": true
    },
    "kernelspec": {
      "name": "python3",
      "display_name": "Python 3"
    },
    "language_info": {
      "name": "python"
    }
  },
  "cells": [
    {
      "cell_type": "markdown",
      "metadata": {
        "id": "view-in-github",
        "colab_type": "text"
      },
      "source": [
        "<a href=\"https://colab.research.google.com/github/Gregorihurtado2699/programacion-web/blob/main/IMC.ipynb\" target=\"_parent\"><img src=\"https://colab.research.google.com/assets/colab-badge.svg\" alt=\"Open In Colab\"/></a>"
      ]
    },
    {
      "cell_type": "markdown",
      "source": [
        "## calculo del indice de la masa corporal"
      ],
      "metadata": {
        "id": "yxa51p5Qj3q_"
      }
    },
    {
      "cell_type": "code",
      "source": [
        "#@title Cálculo del IMC { run: \"auto\" }\n",
        "estatura = 1.70 #@param {type:\"number\"}\n",
        "peso = 90 #@param {type:\"number\"}\n",
        "imc=peso/estatura**2\n",
        "print(imc)\n"
      ],
      "metadata": {
        "cellView": "form",
        "id": "pSNj0ZbRlvPp"
      },
      "execution_count": null,
      "outputs": []
    }
  ]
}